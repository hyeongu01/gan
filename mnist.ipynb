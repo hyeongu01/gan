{
 "cells": [
  {
   "cell_type": "markdown",
   "metadata": {},
   "source": [
    "## mnist 커스텀 데이터셋 구축"
   ]
  },
  {
   "cell_type": "code",
   "execution_count": 77,
   "metadata": {},
   "outputs": [
    {
     "name": "stdout",
     "output_type": "stream",
     "text": [
      "dataset_length: 60000\n"
     ]
    }
   ],
   "source": [
    "from torch.utils.data import Dataset, DataLoader\n",
    "from torchvision import datasets, transforms\n",
    "import torch\n",
    "\n",
    "transform = transforms.Compose([\n",
    "    transforms.ToTensor(), # [0, 255] -> 0에서 1값으로 정규화\n",
    "    transforms.Normalize((0.5, ), (0.5, )) # 0에서 1값으로 정규화\n",
    "])\n",
    "\n",
    "class MNISTDataset(Dataset):\n",
    "    def __init__(self, root, train=True, transform=None, download=False):\n",
    "        self.data = datasets.MNIST(root, train=train, transform=transform, download=download)\n",
    "\n",
    "    def __len__(self):\n",
    "        return len(self.data)\n",
    "    \n",
    "    def __getitem__(self, index):\n",
    "        sample, _ = self.data[index]\n",
    "        \n",
    "        return sample\n",
    "    \n",
    "\n",
    "mnist_dataset = MNISTDataset(\"./mnist\", train=True, transform=transform, download=False)\n",
    "print(f\"dataset_length: {len(mnist_dataset)}\")\n"
   ]
  },
  {
   "cell_type": "markdown",
   "metadata": {},
   "source": [
    "### post process 선언 및 커스텀 데이터셋 테스트"
   ]
  },
  {
   "cell_type": "code",
   "execution_count": 78,
   "metadata": {},
   "outputs": [
    {
     "data": {
      "image/png": "[encoded data removed]",
      "text/plain": [
       "<Figure size 600x600 with 1 Axes>"
      ]
     },
     "metadata": {},
     "output_type": "display_data"
    },
    {
     "name": "stdout",
     "output_type": "stream",
     "text": [
      "max: 255, min: 0\n"
     ]
    }
   ],
   "source": [
    "import matplotlib.pyplot as plt\n",
    "import random\n",
    "\n",
    "def denorm(tensor, mean=0.5, std=0.5):\n",
    "    mean = torch.tensor(mean).view(-1, 1, 1)\n",
    "    std = torch.tensor(std).view(-1, 1, 1)\n",
    "    \n",
    "    tensor = (tensor * std + mean) * 255\n",
    "    tensor = tensor.round().clamp(0, 255).byte() # round(): 반올림 처리\n",
    "    \n",
    "    return tensor\n",
    "\n",
    "sample_idx = random.randrange(0, len(mnist_dataset))\n",
    "sample = mnist_dataset[sample_idx]\n",
    "sample_img = denorm(sample).squeeze().numpy()\n",
    "\n",
    "plt.figure(figsize=(6, 6))\n",
    "plt.imshow(sample_img, cmap='gray')\n",
    "plt.show()\n",
    "print(f\"max: {sample_img.max()}, min: {sample_img.min()}\")"
   ]
  },
  {
   "cell_type": "code",
   "execution_count": 79,
   "metadata": {},
   "outputs": [
    {
     "name": "stdout",
     "output_type": "stream",
     "text": [
      "배치 인덱스: 0\n",
      "이미지 크기: torch.Size([64, 1, 28, 28])\n"
     ]
    }
   ],
   "source": [
    "from torch.utils.data import DataLoader\n",
    "\n",
    "train_loader = DataLoader(\n",
    "    dataset = mnist_dataset,\n",
    "    batch_size = 64,\n",
    "    shuffle = True\n",
    ")\n",
    "\n",
    "for batch_idx, images in enumerate(train_loader):\n",
    "    print(f\"배치 인덱스: {batch_idx}\")\n",
    "    print(f\"이미지 크기: {images.shape}\")\n",
    "    break"
   ]
  },
  {
   "cell_type": "code",
   "execution_count": null,
   "metadata": {},
   "outputs": [],
   "source": []
  }
 ],
 "metadata": {
  "kernelspec": {
   "display_name": "tedy",
   "language": "python",
   "name": "python3"
  },
  "language_info": {
   "codemirror_mode": {
    "name": "ipython",
    "version": 3
   },
   "file_extension": ".py",
   "mimetype": "text/x-python",
   "name": "python",
   "nbconvert_exporter": "python",
   "pygments_lexer": "ipython3",
   "version": "3.8.16"
  }
 },
 "nbformat": 4,
 "nbformat_minor": 2
}
